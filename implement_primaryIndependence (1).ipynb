{
  "nbformat": 4,
  "nbformat_minor": 0,
  "metadata": {
    "colab": {
      "provenance": []
    },
    "kernelspec": {
      "name": "python3",
      "display_name": "Python 3"
    },
    "language_info": {
      "name": "python"
    }
  },
  "cells": [
    {
      "cell_type": "code",
      "execution_count": 1,
      "metadata": {
        "id": "xCqnDzMKLtUi"
      },
      "outputs": [],
      "source": [
        "import numpy as np"
      ]
    },
    {
      "cell_type": "code",
      "source": [
        "A = np.array(([1,3,8],[1,2,6],[0,1,2]))\n",
        "A"
      ],
      "metadata": {
        "colab": {
          "base_uri": "https://localhost:8080/"
        },
        "id": "RhReNgUIs3-3",
        "outputId": "7674194f-7686-487c-ceb7-68c83fff4515"
      },
      "execution_count": 2,
      "outputs": [
        {
          "output_type": "execute_result",
          "data": {
            "text/plain": [
              "array([[1, 3, 8],\n",
              "       [1, 2, 6],\n",
              "       [0, 1, 2]])"
            ]
          },
          "metadata": {},
          "execution_count": 2
        }
      ]
    },
    {
      "cell_type": "code",
      "source": [
        "for i in A[:,0]:\n",
        "  if i != 0:\n",
        "    C = A[:,0].reshape(A[:,0].shape[0],-1)\n",
        "    break"
      ],
      "metadata": {
        "id": "kd-iD15Nu541"
      },
      "execution_count": 3,
      "outputs": []
    },
    {
      "cell_type": "code",
      "source": [
        "C"
      ],
      "metadata": {
        "colab": {
          "base_uri": "https://localhost:8080/"
        },
        "id": "jXuOYjofvXQw",
        "outputId": "abf86dea-d4e2-4c58-8acf-2f896e52270e"
      },
      "execution_count": 4,
      "outputs": [
        {
          "output_type": "execute_result",
          "data": {
            "text/plain": [
              "array([[1],\n",
              "       [1],\n",
              "       [0]])"
            ]
          },
          "metadata": {},
          "execution_count": 4
        }
      ]
    },
    {
      "cell_type": "code",
      "source": [
        "a = A[:,0] / A[:,1]\n",
        "a_true = 0\n",
        "\n",
        "for i in a:\n",
        "  if a[0] == i:\n",
        "    continue\n",
        "  else:\n",
        "    a_true = 1\n",
        "    break\n",
        "\n",
        "if a_true == 1:\n",
        "  C = np.concatenate([C, A[:,1].reshape(A[:,1].shape[0],-1)], 1)"
      ],
      "metadata": {
        "id": "TwF2cLKjvuR4"
      },
      "execution_count": 22,
      "outputs": []
    },
    {
      "cell_type": "code",
      "source": [
        "C"
      ],
      "metadata": {
        "colab": {
          "base_uri": "https://localhost:8080/"
        },
        "id": "bEzTABiMNcxP",
        "outputId": "37c78ba9-27ab-429d-9985-b6392293398f"
      },
      "execution_count": 23,
      "outputs": [
        {
          "output_type": "execute_result",
          "data": {
            "text/plain": [
              "array([[1, 3],\n",
              "       [1, 2],\n",
              "       [0, 1]])"
            ]
          },
          "metadata": {},
          "execution_count": 23
        }
      ]
    },
    {
      "cell_type": "code",
      "source": [
        "import sympy"
      ],
      "metadata": {
        "id": "Y4jfMawgPb-F"
      },
      "execution_count": 30,
      "outputs": []
    },
    {
      "cell_type": "code",
      "source": [
        "x1 = sympy.symbols('x1')"
      ],
      "metadata": {
        "id": "a0yGhADmPdrn"
      },
      "execution_count": 31,
      "outputs": []
    },
    {
      "cell_type": "code",
      "source": [
        "X = []\n",
        "\n",
        "for i in range(0, C.shape[1]):\n",
        "  exec(f\"x{i} = sympy.symbols('x{i}')\")\n",
        "  exec(f\"X.append(x{i})\")"
      ],
      "metadata": {
        "id": "B9yfBQ8oMuqA"
      },
      "execution_count": 41,
      "outputs": []
    },
    {
      "cell_type": "code",
      "source": [
        "X = np.array(X)\n",
        "X"
      ],
      "metadata": {
        "colab": {
          "base_uri": "https://localhost:8080/"
        },
        "id": "_4uSWF1uOnZT",
        "outputId": "ae49c8f2-4896-4aa7-934e-7e53d2ed3dcb"
      },
      "execution_count": 45,
      "outputs": [
        {
          "output_type": "execute_result",
          "data": {
            "text/plain": [
              "array([x0, x1], dtype=object)"
            ]
          },
          "metadata": {},
          "execution_count": 45
        }
      ]
    },
    {
      "cell_type": "code",
      "source": [
        "C.dot(X.T).reshape(C.shape[0],-1)"
      ],
      "metadata": {
        "colab": {
          "base_uri": "https://localhost:8080/"
        },
        "id": "RAkenlgDQewO",
        "outputId": "f3cec679-c0d4-4394-c96b-80587df973e2"
      },
      "execution_count": 50,
      "outputs": [
        {
          "output_type": "execute_result",
          "data": {
            "text/plain": [
              "array([[x0 + 3*x1],\n",
              "       [x0 + 2*x1],\n",
              "       [x1]], dtype=object)"
            ]
          },
          "metadata": {},
          "execution_count": 50
        }
      ]
    },
    {
      "cell_type": "code",
      "source": [
        "C.dot(X.T).reshape(C.shape[0],-1) - A[:,2].reshape(A.shape[0],-1)"
      ],
      "metadata": {
        "colab": {
          "base_uri": "https://localhost:8080/"
        },
        "id": "TtK01EQ1QfV7",
        "outputId": "b8fe8e10-1261-4f06-8b36-e30c56ed7957"
      },
      "execution_count": 53,
      "outputs": [
        {
          "output_type": "execute_result",
          "data": {
            "text/plain": [
              "array([[x0 + 3*x1 - 8],\n",
              "       [x0 + 2*x1 - 6],\n",
              "       [x1 - 2]], dtype=object)"
            ]
          },
          "metadata": {},
          "execution_count": 53
        }
      ]
    },
    {
      "cell_type": "code",
      "source": [],
      "metadata": {
        "id": "dipWZgTAUg4h"
      },
      "execution_count": null,
      "outputs": []
    }
  ]
}