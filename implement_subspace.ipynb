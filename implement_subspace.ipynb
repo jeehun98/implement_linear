{
  "nbformat": 4,
  "nbformat_minor": 0,
  "metadata": {
    "colab": {
      "provenance": []
    },
    "kernelspec": {
      "name": "python3",
      "display_name": "Python 3"
    },
    "language_info": {
      "name": "python"
    }
  },
  "cells": [
    {
      "cell_type": "code",
      "execution_count": 3,
      "metadata": {
        "id": "ysOrNZQ_JHas"
      },
      "outputs": [],
      "source": [
        "import numpy as np"
      ]
    },
    {
      "cell_type": "code",
      "source": [
        "A = np.array(([1,2],[3,6]))\n",
        "A"
      ],
      "metadata": {
        "colab": {
          "base_uri": "https://localhost:8080/"
        },
        "id": "cxRZx4YnJx-q",
        "outputId": "728acc02-089b-4654-b13c-6ea4e91303e2"
      },
      "execution_count": 4,
      "outputs": [
        {
          "output_type": "execute_result",
          "data": {
            "text/plain": [
              "array([[1, 2],\n",
              "       [3, 6]])"
            ]
          },
          "metadata": {},
          "execution_count": 4
        }
      ]
    },
    {
      "cell_type": "code",
      "source": [
        "C_A = A[:,0]\n",
        "C_A"
      ],
      "metadata": {
        "colab": {
          "base_uri": "https://localhost:8080/"
        },
        "id": "qODVCtfoJ97K",
        "outputId": "99921864-5ab7-4fe6-ca96-ec26c339eb99"
      },
      "execution_count": 5,
      "outputs": [
        {
          "output_type": "execute_result",
          "data": {
            "text/plain": [
              "array([1, 3])"
            ]
          },
          "metadata": {},
          "execution_count": 5
        }
      ]
    },
    {
      "cell_type": "code",
      "source": [
        "C_A_T = A.T[:,0]\n",
        "C_A_T"
      ],
      "metadata": {
        "id": "6VnK5gx7KMft",
        "colab": {
          "base_uri": "https://localhost:8080/"
        },
        "outputId": "da25afb7-b6f3-4faa-fac5-bb7f72c4ee44"
      },
      "execution_count": 6,
      "outputs": [
        {
          "output_type": "execute_result",
          "data": {
            "text/plain": [
              "array([1, 2])"
            ]
          },
          "metadata": {},
          "execution_count": 6
        }
      ]
    },
    {
      "cell_type": "code",
      "source": [
        "import matplotlib.pyplot as plt"
      ],
      "metadata": {
        "id": "xB65g_hTT3z7"
      },
      "execution_count": 7,
      "outputs": []
    },
    {
      "cell_type": "code",
      "source": [
        "c_a = np.linspace(-2,2,200)"
      ],
      "metadata": {
        "id": "V5XGmvfAT6Im"
      },
      "execution_count": 14,
      "outputs": []
    },
    {
      "cell_type": "code",
      "source": [
        "c_a_result = - 1/2 * c_a"
      ],
      "metadata": {
        "id": "IeQ7dHvPUFc0"
      },
      "execution_count": 15,
      "outputs": []
    },
    {
      "cell_type": "code",
      "source": [
        "n_a = np.linspace(-1,1,200)"
      ],
      "metadata": {
        "id": "VmJ84CnTVS3T"
      },
      "execution_count": 16,
      "outputs": []
    },
    {
      "cell_type": "code",
      "source": [
        "n_a_result = 2 * n_a"
      ],
      "metadata": {
        "id": "m4uaokYEVXdk"
      },
      "execution_count": 17,
      "outputs": []
    },
    {
      "cell_type": "code",
      "source": [
        "plt.plot(c_a, c_a_result, n_a, n_a_result)\n",
        "plt.show()"
      ],
      "metadata": {
        "colab": {
          "base_uri": "https://localhost:8080/",
          "height": 265
        },
        "id": "JwnwAmy2URKp",
        "outputId": "7c7c79e0-097f-4cc1-b902-97634533f644"
      },
      "execution_count": 18,
      "outputs": [
        {
          "output_type": "display_data",
          "data": {
            "text/plain": [
              "<Figure size 432x288 with 1 Axes>"
            ],
            "image/png": "[encoded data removed]"
          },
          "metadata": {
            "needs_background": "light"
          }
        }
      ]
    },
    {
      "cell_type": "code",
      "source": [
        "c_aT = np.linspace(-1, 1, 200)"
      ],
      "metadata": {
        "id": "6gvTpJ67qtzp"
      },
      "execution_count": 27,
      "outputs": []
    },
    {
      "cell_type": "code",
      "source": [
        "c_aT_result = 3 * c_aT"
      ],
      "metadata": {
        "id": "k35-1SRCWO9v"
      },
      "execution_count": 28,
      "outputs": []
    },
    {
      "cell_type": "code",
      "source": [
        "n_aT = np.linspace(-3, 3, 200)"
      ],
      "metadata": {
        "id": "zlmgyujOWUeU"
      },
      "execution_count": 29,
      "outputs": []
    },
    {
      "cell_type": "code",
      "source": [
        "n_aT_result = -1/3 * n_aT"
      ],
      "metadata": {
        "id": "7CStccK8WaoY"
      },
      "execution_count": 32,
      "outputs": []
    },
    {
      "cell_type": "code",
      "source": [
        "plt.plot(c_aT, c_aT_result, n_aT, n_aT_result)\n",
        "plt.show()"
      ],
      "metadata": {
        "colab": {
          "base_uri": "https://localhost:8080/",
          "height": 265
        },
        "id": "E_68Lz4_WgkN",
        "outputId": "38a80aea-9221-4520-e15f-0f911f65795c"
      },
      "execution_count": 33,
      "outputs": [
        {
          "output_type": "display_data",
          "data": {
            "text/plain": [
              "<Figure size 432x288 with 1 Axes>"
            ],
            "image/png": "[encoded data removed]"
          },
          "metadata": {
            "needs_background": "light"
          }
        }
      ]
    },
    {
      "cell_type": "code",
      "source": [],
      "metadata": {
        "id": "WpshqSjSWleh"
      },
      "execution_count": null,
      "outputs": []
    }
  ]
}