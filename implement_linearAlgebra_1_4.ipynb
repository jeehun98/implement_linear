{
  "nbformat": 4,
  "nbformat_minor": 0,
  "metadata": {
    "colab": {
      "provenance": []
    },
    "kernelspec": {
      "name": "python3",
      "display_name": "Python 3"
    },
    "language_info": {
      "name": "python"
    }
  },
  "cells": [
    {
      "cell_type": "code",
      "execution_count": 218,
      "metadata": {
        "id": "GxNQQEWgTfCr"
      },
      "outputs": [],
      "source": [
        "import numpy as np"
      ]
    },
    {
      "cell_type": "code",
      "source": [
        "import sympy"
      ],
      "metadata": {
        "id": "KYq6LqYkisxw"
      },
      "execution_count": 219,
      "outputs": []
    },
    {
      "cell_type": "code",
      "source": [
        "A = np.array(([1,-2],[2,3]))"
      ],
      "metadata": {
        "id": "55Z4P0zBgvqA"
      },
      "execution_count": 220,
      "outputs": []
    },
    {
      "cell_type": "code",
      "source": [
        "A"
      ],
      "metadata": {
        "colab": {
          "base_uri": "https://localhost:8080/"
        },
        "id": "ASUC9Ps8Thkb",
        "outputId": "5d580ef5-1e77-4d86-d530-a9a4f7bbe82e"
      },
      "execution_count": 221,
      "outputs": [
        {
          "output_type": "execute_result",
          "data": {
            "text/plain": [
              "array([[ 1, -2],\n",
              "       [ 2,  3]])"
            ]
          },
          "metadata": {},
          "execution_count": 221
        }
      ]
    },
    {
      "cell_type": "code",
      "source": [
        "result = np.array(([1],[9])).reshape(-1,1)"
      ],
      "metadata": {
        "id": "vzKzF1SAXC_5"
      },
      "execution_count": 222,
      "outputs": []
    },
    {
      "cell_type": "code",
      "source": [
        "result"
      ],
      "metadata": {
        "colab": {
          "base_uri": "https://localhost:8080/"
        },
        "id": "MnE1xuUQXIof",
        "outputId": "b123b77a-22bb-4aec-eba4-df33399af3ff"
      },
      "execution_count": 223,
      "outputs": [
        {
          "output_type": "execute_result",
          "data": {
            "text/plain": [
              "array([[1],\n",
              "       [9]])"
            ]
          },
          "metadata": {},
          "execution_count": 223
        }
      ]
    },
    {
      "cell_type": "code",
      "source": [
        "x = sympy.Symbol('x')\n",
        "y = sympy.Symbol('y')"
      ],
      "metadata": {
        "id": "coC8Mh42UN_7"
      },
      "execution_count": 224,
      "outputs": []
    },
    {
      "cell_type": "code",
      "source": [
        "matrix_x = np.array(([x],[y]))"
      ],
      "metadata": {
        "id": "CwJXuXImUUrk"
      },
      "execution_count": 225,
      "outputs": []
    },
    {
      "cell_type": "code",
      "source": [
        "matrix_x"
      ],
      "metadata": {
        "colab": {
          "base_uri": "https://localhost:8080/"
        },
        "id": "O2K0X1XaUYR0",
        "outputId": "96f35998-b1ea-4637-96f0-57bbdec6c9df"
      },
      "execution_count": 226,
      "outputs": [
        {
          "output_type": "execute_result",
          "data": {
            "text/plain": [
              "array([[x],\n",
              "       [y]], dtype=object)"
            ]
          },
          "metadata": {},
          "execution_count": 226
        }
      ]
    },
    {
      "cell_type": "code",
      "source": [
        "A@matrix_x"
      ],
      "metadata": {
        "colab": {
          "base_uri": "https://localhost:8080/"
        },
        "id": "lktfgr2YUbq2",
        "outputId": "830b2ec4-4572-484b-ebf3-750d75d4e484"
      },
      "execution_count": 227,
      "outputs": [
        {
          "output_type": "execute_result",
          "data": {
            "text/plain": [
              "array([[x - 2*y],\n",
              "       [2*x + 3*y]], dtype=object)"
            ]
          },
          "metadata": {},
          "execution_count": 227
        }
      ]
    },
    {
      "cell_type": "code",
      "source": [
        "(A@matrix_x)[0][0]"
      ],
      "metadata": {
        "colab": {
          "base_uri": "https://localhost:8080/",
          "height": 38
        },
        "id": "NbMfynz3UdWR",
        "outputId": "6a2d4c4a-e15e-4a48-f856-200c090f3199"
      },
      "execution_count": 228,
      "outputs": [
        {
          "output_type": "execute_result",
          "data": {
            "text/plain": [
              "x - 2*y"
            ],
            "text/latex": "$\\displaystyle x - 2 y$"
          },
          "metadata": {},
          "execution_count": 228
        }
      ]
    },
    {
      "cell_type": "code",
      "source": [
        "(A@matrix_x)[1][0]"
      ],
      "metadata": {
        "colab": {
          "base_uri": "https://localhost:8080/",
          "height": 38
        },
        "id": "ibeSO7KFV2tF",
        "outputId": "935dc9b7-9e1c-474e-c6fb-5cfa50c57fdf"
      },
      "execution_count": 229,
      "outputs": [
        {
          "output_type": "execute_result",
          "data": {
            "text/plain": [
              "2*x + 3*y"
            ],
            "text/latex": "$\\displaystyle 2 x + 3 y$"
          },
          "metadata": {},
          "execution_count": 229
        }
      ]
    },
    {
      "cell_type": "code",
      "source": [
        "a1 = A[1][0] / A[0][0]\n",
        "a1"
      ],
      "metadata": {
        "colab": {
          "base_uri": "https://localhost:8080/"
        },
        "id": "Nt3Ia6qLV0yK",
        "outputId": "64aae650-2da9-477c-b9a8-99f59bc37111"
      },
      "execution_count": 230,
      "outputs": [
        {
          "output_type": "execute_result",
          "data": {
            "text/plain": [
              "2.0"
            ]
          },
          "metadata": {},
          "execution_count": 230
        }
      ]
    },
    {
      "cell_type": "code",
      "source": [
        "(A@matrix_x)[0][0] * 2 - (A@matrix_x)[1][0]"
      ],
      "metadata": {
        "colab": {
          "base_uri": "https://localhost:8080/",
          "height": 38
        },
        "id": "iAR_kt3wWNWO",
        "outputId": "1c7bc7f7-a809-427a-a7fc-ecb12b45dc45"
      },
      "execution_count": 231,
      "outputs": [
        {
          "output_type": "execute_result",
          "data": {
            "text/plain": [
              "-7*y"
            ],
            "text/latex": "$\\displaystyle - 7 y$"
          },
          "metadata": {},
          "execution_count": 231
        }
      ]
    },
    {
      "cell_type": "code",
      "source": [
        "result[0][0] * 2 - result[1][0]"
      ],
      "metadata": {
        "colab": {
          "base_uri": "https://localhost:8080/"
        },
        "id": "uVmdXnlcW95r",
        "outputId": "a779cae8-dea3-47a2-c871-78245588bf08"
      },
      "execution_count": 232,
      "outputs": [
        {
          "output_type": "execute_result",
          "data": {
            "text/plain": [
              "-7"
            ]
          },
          "metadata": {},
          "execution_count": 232
        }
      ]
    },
    {
      "cell_type": "code",
      "source": [
        "eqn1 = sympy.Eq((A@matrix_x)[0][0] * 2 - (A@matrix_x)[1][0],result[0][0] * 2 - result[1][0])\n",
        "eqn1"
      ],
      "metadata": {
        "colab": {
          "base_uri": "https://localhost:8080/",
          "height": 38
        },
        "id": "VC0YC1gQXNrX",
        "outputId": "da3545bd-3bd0-42fc-bc61-33efffb4a52d"
      },
      "execution_count": 233,
      "outputs": [
        {
          "output_type": "execute_result",
          "data": {
            "text/plain": [
              "Eq(-7*y, -7)"
            ],
            "text/latex": "$\\displaystyle - 7 y = -7$"
          },
          "metadata": {},
          "execution_count": 233
        }
      ]
    },
    {
      "cell_type": "code",
      "source": [
        "a1 = sympy.solve(eqn1,y)\n",
        "a1"
      ],
      "metadata": {
        "colab": {
          "base_uri": "https://localhost:8080/"
        },
        "id": "9oZPzklcXakn",
        "outputId": "86cad14b-8d9e-4f27-e130-ae008efe5f2e"
      },
      "execution_count": 234,
      "outputs": [
        {
          "output_type": "execute_result",
          "data": {
            "text/plain": [
              "[1]"
            ]
          },
          "metadata": {},
          "execution_count": 234
        }
      ]
    },
    {
      "cell_type": "code",
      "source": [
        "ax = (A@matrix_x)[0][0].subs([(y,1)])\n",
        "ax"
      ],
      "metadata": {
        "colab": {
          "base_uri": "https://localhost:8080/",
          "height": 38
        },
        "id": "pdBm5IYyZrb1",
        "outputId": "b05f7e42-e17d-48c6-e6fc-16ce04e91e3a"
      },
      "execution_count": 235,
      "outputs": [
        {
          "output_type": "execute_result",
          "data": {
            "text/plain": [
              "x - 2"
            ],
            "text/latex": "$\\displaystyle x - 2$"
          },
          "metadata": {},
          "execution_count": 235
        }
      ]
    },
    {
      "cell_type": "code",
      "source": [
        "eqn2 = sympy.Eq(ax,result[0][0])\n",
        "eqn2"
      ],
      "metadata": {
        "colab": {
          "base_uri": "https://localhost:8080/",
          "height": 38
        },
        "id": "uKisx8uihzmr",
        "outputId": "e1fc1cd9-baaa-4763-a7ca-ad7d5a503764"
      },
      "execution_count": 236,
      "outputs": [
        {
          "output_type": "execute_result",
          "data": {
            "text/plain": [
              "Eq(x - 2, 1)"
            ],
            "text/latex": "$\\displaystyle x - 2 = 1$"
          },
          "metadata": {},
          "execution_count": 236
        }
      ]
    },
    {
      "cell_type": "code",
      "source": [
        "a2 = sympy.solve(eqn2, x)\n",
        "a2"
      ],
      "metadata": {
        "colab": {
          "base_uri": "https://localhost:8080/"
        },
        "id": "LlctmATpiapE",
        "outputId": "24c30a80-2f77-4ec4-857d-fb9d8f927934"
      },
      "execution_count": 237,
      "outputs": [
        {
          "output_type": "execute_result",
          "data": {
            "text/plain": [
              "[3]"
            ]
          },
          "metadata": {},
          "execution_count": 237
        }
      ]
    },
    {
      "cell_type": "code",
      "source": [],
      "metadata": {
        "id": "e1utE5ppiljC"
      },
      "execution_count": 237,
      "outputs": []
    }
  ]
}