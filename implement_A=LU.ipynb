{
  "nbformat": 4,
  "nbformat_minor": 0,
  "metadata": {
    "colab": {
      "provenance": []
    },
    "kernelspec": {
      "name": "python3",
      "display_name": "Python 3"
    },
    "language_info": {
      "name": "python"
    }
  },
  "cells": [
    {
      "cell_type": "code",
      "execution_count": 93,
      "metadata": {
        "id": "OmaveIRWdzHc"
      },
      "outputs": [],
      "source": [
        "import numpy as np"
      ]
    },
    {
      "cell_type": "code",
      "source": [
        "A = np.array(([1,-2],[2,3]))\n",
        "A"
      ],
      "metadata": {
        "id": "k4A9h572liz7",
        "colab": {
          "base_uri": "https://localhost:8080/"
        },
        "outputId": "3f61b282-99fe-43bb-952b-bcda83212dba"
      },
      "execution_count": 94,
      "outputs": [
        {
          "output_type": "execute_result",
          "data": {
            "text/plain": [
              "array([[ 1, -2],\n",
              "       [ 2,  3]])"
            ]
          },
          "metadata": {},
          "execution_count": 94
        }
      ]
    },
    {
      "cell_type": "code",
      "source": [
        "b = np.array(([1],[9]))\n",
        "b"
      ],
      "metadata": {
        "colab": {
          "base_uri": "https://localhost:8080/"
        },
        "id": "mrQcVpV_yZV1",
        "outputId": "3ec387db-f968-407f-b886-b95a27675588"
      },
      "execution_count": 95,
      "outputs": [
        {
          "output_type": "execute_result",
          "data": {
            "text/plain": [
              "array([[1],\n",
              "       [9]])"
            ]
          },
          "metadata": {},
          "execution_count": 95
        }
      ]
    },
    {
      "cell_type": "code",
      "source": [
        "import sympy"
      ],
      "metadata": {
        "id": "ZL0XBcP8TZcs"
      },
      "execution_count": 96,
      "outputs": []
    },
    {
      "cell_type": "code",
      "source": [
        "x,y = sympy.symbols('x, y')"
      ],
      "metadata": {
        "id": "hjVFHAutTcxL"
      },
      "execution_count": 97,
      "outputs": []
    },
    {
      "cell_type": "code",
      "source": [
        "X = np.array(([x],[y]))\n",
        "X"
      ],
      "metadata": {
        "id": "s85N6xFRTf6q",
        "colab": {
          "base_uri": "https://localhost:8080/"
        },
        "outputId": "f44212da-e7f0-4caa-f0b9-30ef9cb946bd"
      },
      "execution_count": 98,
      "outputs": [
        {
          "output_type": "execute_result",
          "data": {
            "text/plain": [
              "array([[x],\n",
              "       [y]], dtype=object)"
            ]
          },
          "metadata": {},
          "execution_count": 98
        }
      ]
    },
    {
      "cell_type": "code",
      "source": [
        "A.dot(X) - np.array(([1],[9]))"
      ],
      "metadata": {
        "id": "B2f8qnTATk4L",
        "colab": {
          "base_uri": "https://localhost:8080/"
        },
        "outputId": "f464c5a3-bb31-4105-98f0-e71ee61ef81a"
      },
      "execution_count": 99,
      "outputs": [
        {
          "output_type": "execute_result",
          "data": {
            "text/plain": [
              "array([[x - 2*y - 1],\n",
              "       [2*x + 3*y - 9]], dtype=object)"
            ]
          },
          "metadata": {},
          "execution_count": 99
        }
      ]
    },
    {
      "cell_type": "code",
      "source": [
        "import matplotlib.pyplot as plt"
      ],
      "metadata": {
        "id": "aJwAl2m75Wdc"
      },
      "execution_count": 100,
      "outputs": []
    },
    {
      "cell_type": "code",
      "source": [
        "x1 = np.linspace(0, 4, 200)"
      ],
      "metadata": {
        "id": "3qhb2iMGsLsW"
      },
      "execution_count": 101,
      "outputs": []
    },
    {
      "cell_type": "code",
      "source": [
        "y1 = (x1 - 1) / 2"
      ],
      "metadata": {
        "id": "8GjaI0N1sPvB"
      },
      "execution_count": 102,
      "outputs": []
    },
    {
      "cell_type": "code",
      "source": [
        "x2 = np.linspace(0, 4, 200)"
      ],
      "metadata": {
        "id": "3YrvbE0jw1K1"
      },
      "execution_count": 103,
      "outputs": []
    },
    {
      "cell_type": "code",
      "source": [
        "y2 = (9 - 2*x2) / 3"
      ],
      "metadata": {
        "id": "HtJeNoc8tkyd"
      },
      "execution_count": 104,
      "outputs": []
    },
    {
      "cell_type": "code",
      "source": [
        "x3 = np.linspace(0, 4, 200)"
      ],
      "metadata": {
        "id": "obpb8cARw6Vj"
      },
      "execution_count": 105,
      "outputs": []
    },
    {
      "cell_type": "code",
      "source": [
        "y3 = 1 + x3 * 0"
      ],
      "metadata": {
        "id": "mZvBZLh5wq2H"
      },
      "execution_count": 106,
      "outputs": []
    },
    {
      "cell_type": "code",
      "source": [
        "plt.plot(x1, y1, x2, y2, x3, y3)\n",
        "plt.show()"
      ],
      "metadata": {
        "colab": {
          "base_uri": "https://localhost:8080/",
          "height": 265
        },
        "id": "JK22VG_TsYIR",
        "outputId": "c2d499b8-857a-4308-a809-84258360bfc7"
      },
      "execution_count": 107,
      "outputs": [
        {
          "output_type": "display_data",
          "data": {
            "text/plain": [
              "<Figure size 432x288 with 1 Axes>"
            ],
            "image/png": "[encoded data removed]"
          },
          "metadata": {
            "needs_background": "light"
          }
        }
      ]
    },
    {
      "cell_type": "code",
      "source": [
        "b[1] = b[1] - b[0] * (A[1][0] / A[0][0])\n",
        "A[1] = A[1] - A[0] * (A[1][0] / A[0][0])"
      ],
      "metadata": {
        "id": "6vL1Kc-2uGlN"
      },
      "execution_count": 108,
      "outputs": []
    },
    {
      "cell_type": "code",
      "source": [
        "b[1]"
      ],
      "metadata": {
        "colab": {
          "base_uri": "https://localhost:8080/"
        },
        "id": "8G2wiNVDyo3Z",
        "outputId": "b824950b-2673-41c9-bdd6-cec82a95d0ee"
      },
      "execution_count": 109,
      "outputs": [
        {
          "output_type": "execute_result",
          "data": {
            "text/plain": [
              "array([7])"
            ]
          },
          "metadata": {},
          "execution_count": 109
        }
      ]
    },
    {
      "cell_type": "code",
      "source": [
        "A"
      ],
      "metadata": {
        "colab": {
          "base_uri": "https://localhost:8080/"
        },
        "id": "tAkmN29bxiCw",
        "outputId": "4107d387-390c-45ed-81b1-e0d2ddb82c6e"
      },
      "execution_count": 110,
      "outputs": [
        {
          "output_type": "execute_result",
          "data": {
            "text/plain": [
              "array([[ 1, -2],\n",
              "       [ 0,  7]])"
            ]
          },
          "metadata": {},
          "execution_count": 110
        }
      ]
    },
    {
      "cell_type": "code",
      "source": [
        "b"
      ],
      "metadata": {
        "colab": {
          "base_uri": "https://localhost:8080/"
        },
        "id": "EkoCShZFyRgk",
        "outputId": "dd68c01e-df52-4e3c-8198-13c7f4623ee9"
      },
      "execution_count": 111,
      "outputs": [
        {
          "output_type": "execute_result",
          "data": {
            "text/plain": [
              "array([[1],\n",
              "       [7]])"
            ]
          },
          "metadata": {},
          "execution_count": 111
        }
      ]
    },
    {
      "cell_type": "code",
      "source": [
        "RESULT = A.dot(X) - b\n",
        "RESULT"
      ],
      "metadata": {
        "colab": {
          "base_uri": "https://localhost:8080/"
        },
        "id": "FRORMObVycfG",
        "outputId": "cee5f56a-0ab3-43c6-e4c1-de2301db443f"
      },
      "execution_count": 115,
      "outputs": [
        {
          "output_type": "execute_result",
          "data": {
            "text/plain": [
              "array([[x - 2*y - 1],\n",
              "       [7*y - 7]], dtype=object)"
            ]
          },
          "metadata": {},
          "execution_count": 115
        }
      ]
    },
    {
      "cell_type": "code",
      "source": [
        "RESULT[1][0]"
      ],
      "metadata": {
        "colab": {
          "base_uri": "https://localhost:8080/",
          "height": 38
        },
        "id": "8EqsNfOfzi9e",
        "outputId": "5151e4a2-53a9-4965-d727-09dcfae67ca2"
      },
      "execution_count": 121,
      "outputs": [
        {
          "output_type": "execute_result",
          "data": {
            "text/plain": [
              "7*y - 7"
            ],
            "text/latex": "$\\displaystyle 7 y - 7$"
          },
          "metadata": {},
          "execution_count": 121
        }
      ]
    },
    {
      "cell_type": "code",
      "source": [
        "f = sympy.Eq(RESULT[1][0], 0)\n",
        "f"
      ],
      "metadata": {
        "colab": {
          "base_uri": "https://localhost:8080/",
          "height": 38
        },
        "id": "4HAzsjOSy2e2",
        "outputId": "1a8a1e10-49ad-4867-88b9-e7bf57d8180f"
      },
      "execution_count": 124,
      "outputs": [
        {
          "output_type": "execute_result",
          "data": {
            "text/plain": [
              "Eq(7*y - 7, 0)"
            ],
            "text/latex": "$\\displaystyle 7 y - 7 = 0$"
          },
          "metadata": {},
          "execution_count": 124
        }
      ]
    },
    {
      "cell_type": "code",
      "source": [
        "result = sympy.solve(f)\n",
        "result"
      ],
      "metadata": {
        "colab": {
          "base_uri": "https://localhost:8080/"
        },
        "id": "-p4FRCLjzaqA",
        "outputId": "b7d67fba-a1c9-4104-93fc-0b0eb86a5ab8"
      },
      "execution_count": 125,
      "outputs": [
        {
          "output_type": "execute_result",
          "data": {
            "text/plain": [
              "[1]"
            ]
          },
          "metadata": {},
          "execution_count": 125
        }
      ]
    },
    {
      "cell_type": "code",
      "source": [
        "result[0]"
      ],
      "metadata": {
        "colab": {
          "base_uri": "https://localhost:8080/",
          "height": 37
        },
        "id": "7LGqT-uk0DEo",
        "outputId": "f507bf71-6655-49c5-e7c3-eb78e1833b93"
      },
      "execution_count": 126,
      "outputs": [
        {
          "output_type": "execute_result",
          "data": {
            "text/plain": [
              "1"
            ],
            "text/latex": "$\\displaystyle 1$"
          },
          "metadata": {},
          "execution_count": 126
        }
      ]
    },
    {
      "cell_type": "code",
      "source": [],
      "metadata": {
        "id": "lo-YKWoL0FJ9"
      },
      "execution_count": null,
      "outputs": []
    }
  ]
}