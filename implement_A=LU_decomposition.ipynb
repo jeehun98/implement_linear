{
  "nbformat": 4,
  "nbformat_minor": 0,
  "metadata": {
    "colab": {
      "provenance": []
    },
    "kernelspec": {
      "name": "python3",
      "display_name": "Python 3"
    },
    "language_info": {
      "name": "python"
    }
  },
  "cells": [
    {
      "cell_type": "code",
      "execution_count": 36,
      "metadata": {
        "id": "ISPIgI_KsvW5"
      },
      "outputs": [],
      "source": [
        "import numpy as np"
      ]
    },
    {
      "cell_type": "code",
      "source": [
        "A = np.array(([1,2,3,4],[6,7,8,9],[7,13,12,11],[13,17,4,3]))\n",
        "A"
      ],
      "metadata": {
        "colab": {
          "base_uri": "https://localhost:8080/"
        },
        "id": "5D2_Vq-0wuhQ",
        "outputId": "98b4a3b8-e70f-45ab-8d08-42b205e76c05"
      },
      "execution_count": 56,
      "outputs": [
        {
          "output_type": "execute_result",
          "data": {
            "text/plain": [
              "array([[ 1,  2,  3,  4],\n",
              "       [ 6,  7,  8,  9],\n",
              "       [ 7, 13, 12, 11],\n",
              "       [13, 17,  4,  3]])"
            ]
          },
          "metadata": {},
          "execution_count": 56
        }
      ]
    },
    {
      "cell_type": "code",
      "source": [
        "L = np.zeros((A.shape[0], A.shape[1]))\n",
        "L"
      ],
      "metadata": {
        "colab": {
          "base_uri": "https://localhost:8080/"
        },
        "id": "FMs-jbeVBRIB",
        "outputId": "5960364b-2098-448a-9729-84a69c2f9d9a"
      },
      "execution_count": 57,
      "outputs": [
        {
          "output_type": "execute_result",
          "data": {
            "text/plain": [
              "array([[0., 0., 0., 0.],\n",
              "       [0., 0., 0., 0.],\n",
              "       [0., 0., 0., 0.],\n",
              "       [0., 0., 0., 0.]])"
            ]
          },
          "metadata": {},
          "execution_count": 57
        }
      ]
    },
    {
      "cell_type": "code",
      "source": [
        "U = np.zeros((A.shape[0], A.shape[1]))\n",
        "U[0] = A[0]\n",
        "U"
      ],
      "metadata": {
        "colab": {
          "base_uri": "https://localhost:8080/"
        },
        "id": "dvyfwZQYCMsR",
        "outputId": "287014c4-1617-4b07-e0ce-8fed543e266c"
      },
      "execution_count": 58,
      "outputs": [
        {
          "output_type": "execute_result",
          "data": {
            "text/plain": [
              "array([[1., 2., 3., 4.],\n",
              "       [0., 0., 0., 0.],\n",
              "       [0., 0., 0., 0.],\n",
              "       [0., 0., 0., 0.]])"
            ]
          },
          "metadata": {},
          "execution_count": 58
        }
      ]
    },
    {
      "cell_type": "code",
      "source": [
        "for i in range(A.shape[0]-1):\n",
        "  a = A[i][i]\n",
        "  if(a == 0):\n",
        "    continue\n",
        "  for j in range(i+1, A.shape[0]):\n",
        "    L[j][i] = (A[j][i] / a)\n",
        "    A[j] = A[j] - (A[j][i] / a) * A[i]\n",
        "    U[j] = A[j]"
      ],
      "metadata": {
        "id": "Ujnv7WEYwhl4"
      },
      "execution_count": 59,
      "outputs": []
    },
    {
      "cell_type": "code",
      "source": [
        "for i in range(A.shape[0]):\n",
        "  L[i][i] = 1"
      ],
      "metadata": {
        "id": "ir6_rl7qB_s5"
      },
      "execution_count": 60,
      "outputs": []
    },
    {
      "cell_type": "code",
      "source": [
        "L"
      ],
      "metadata": {
        "colab": {
          "base_uri": "https://localhost:8080/"
        },
        "id": "FXXv6dv8BqrY",
        "outputId": "89470485-85aa-476f-805a-7dc61025a7c4"
      },
      "execution_count": 61,
      "outputs": [
        {
          "output_type": "execute_result",
          "data": {
            "text/plain": [
              "array([[ 1.        ,  0.        ,  0.        ,  0.        ],\n",
              "       [ 6.        ,  1.        ,  0.        ,  0.        ],\n",
              "       [ 7.        ,  0.2       ,  1.        ,  0.        ],\n",
              "       [13.        ,  1.8       ,  2.42857143,  1.        ]])"
            ]
          },
          "metadata": {},
          "execution_count": 61
        }
      ]
    },
    {
      "cell_type": "code",
      "source": [
        "U"
      ],
      "metadata": {
        "colab": {
          "base_uri": "https://localhost:8080/"
        },
        "id": "Z31eSfD4Cmm4",
        "outputId": "6482f596-b84b-42da-eb4c-c58d1cb5c1d0"
      },
      "execution_count": 62,
      "outputs": [
        {
          "output_type": "execute_result",
          "data": {
            "text/plain": [
              "array([[  1.,   2.,   3.,   4.],\n",
              "       [  0.,  -5., -10., -15.],\n",
              "       [  0.,   0.,  -7., -14.],\n",
              "       [  0.,   0.,   0.,  12.]])"
            ]
          },
          "metadata": {},
          "execution_count": 62
        }
      ]
    },
    {
      "cell_type": "code",
      "source": [
        "L.dot(U)"
      ],
      "metadata": {
        "colab": {
          "base_uri": "https://localhost:8080/"
        },
        "id": "mthWkFuJC0IF",
        "outputId": "97907b16-5234-4c42-f43a-8c08bfc337eb"
      },
      "execution_count": 63,
      "outputs": [
        {
          "output_type": "execute_result",
          "data": {
            "text/plain": [
              "array([[ 1.,  2.,  3.,  4.],\n",
              "       [ 6.,  7.,  8.,  9.],\n",
              "       [ 7., 13., 12., 11.],\n",
              "       [13., 17.,  4.,  3.]])"
            ]
          },
          "metadata": {},
          "execution_count": 63
        }
      ]
    },
    {
      "cell_type": "code",
      "source": [
        "A"
      ],
      "metadata": {
        "colab": {
          "base_uri": "https://localhost:8080/"
        },
        "id": "eBaagEwPt95I",
        "outputId": "84eaecc5-ed86-47ba-b5e1-929692e81574"
      },
      "execution_count": 4,
      "outputs": [
        {
          "output_type": "execute_result",
          "data": {
            "text/plain": [
              "array([[  1,   2,   3,   4],\n",
              "       [  0,  -5, -10, -15],\n",
              "       [  0,   0,  -7, -14],\n",
              "       [  0,   0,   0,  12]])"
            ]
          },
          "metadata": {},
          "execution_count": 4
        }
      ]
    },
    {
      "cell_type": "code",
      "source": [
        "A = np.array(([1,2,3,4],[6,7,8,9],[7,13,12,11],[13,17,4,3]))\n",
        "A"
      ],
      "metadata": {
        "colab": {
          "base_uri": "https://localhost:8080/"
        },
        "id": "OF6I_w1f3cSw",
        "outputId": "cc531a85-b947-494c-83a4-e5d48e46de86"
      },
      "execution_count": 5,
      "outputs": [
        {
          "output_type": "execute_result",
          "data": {
            "text/plain": [
              "array([[ 1,  2,  3,  4],\n",
              "       [ 6,  7,  8,  9],\n",
              "       [ 7, 13, 12, 11],\n",
              "       [13, 17,  4,  3]])"
            ]
          },
          "metadata": {},
          "execution_count": 5
        }
      ]
    },
    {
      "cell_type": "code",
      "source": [
        "for i in range(A.shape[0]):\n",
        "  exec(f\"l{i}u{i} = []\")\n",
        "  a = A[i][i]\n",
        "  exec(f\"l{i}u{i}.append(A[i])\")\n",
        "  for j in range(i+1, A.shape[0]):\n",
        "    exec(f\"l{i}u{i}.append((A[j][i] / a) * A[i])\")\n",
        "    A[j] = A[j] - (A[j][i] / a) * A[i]"
      ],
      "metadata": {
        "id": "U_iROeMMzxjw"
      },
      "execution_count": 6,
      "outputs": []
    },
    {
      "cell_type": "code",
      "source": [
        "list_a = []\n",
        "\n",
        "for i in range(A.shape[0]):\n",
        "  a = []\n",
        "  for j in range(A.shape[0]-i):\n",
        "    for k in range(A.shape[1]):\n",
        "      exec(f\"a.append(l{i}u{i}[j][k])\")\n",
        "  list_a.append(a)"
      ],
      "metadata": {
        "id": "bEig3vQH2N6M"
      },
      "execution_count": 7,
      "outputs": []
    },
    {
      "cell_type": "code",
      "source": [
        "len(list_a)"
      ],
      "metadata": {
        "colab": {
          "base_uri": "https://localhost:8080/"
        },
        "id": "evGlWmOoIRqn",
        "outputId": "435515a3-169c-4026-9864-4ff3807d124b"
      },
      "execution_count": 8,
      "outputs": [
        {
          "output_type": "execute_result",
          "data": {
            "text/plain": [
              "4"
            ]
          },
          "metadata": {},
          "execution_count": 8
        }
      ]
    },
    {
      "cell_type": "code",
      "source": [
        "for i in range(len(list_a)):\n",
        "  exec(f\"l{i}u{i} = list_a[i]\")\n",
        "  exec(f\"l{i}u{i} = np.array(l{i}u{i}).reshape(len(list_a)-i,-1)\")\n",
        "  if i != 0:\n",
        "    exec(f\"l{i}u{i} = np.concatenate((np.zeros((i,4)), l{i}u{i}))\")"
      ],
      "metadata": {
        "id": "v0A36MZVJIiV"
      },
      "execution_count": 9,
      "outputs": []
    },
    {
      "cell_type": "code",
      "source": [
        "l0u0"
      ],
      "metadata": {
        "colab": {
          "base_uri": "https://localhost:8080/"
        },
        "id": "AOXrz4gLJ7xf",
        "outputId": "b5c4b598-e3af-4fda-e489-b4eb1e609fe5"
      },
      "execution_count": 10,
      "outputs": [
        {
          "output_type": "execute_result",
          "data": {
            "text/plain": [
              "array([[ 1.,  2.,  3.,  4.],\n",
              "       [ 6., 12., 18., 24.],\n",
              "       [ 7., 14., 21., 28.],\n",
              "       [13., 26., 39., 52.]])"
            ]
          },
          "metadata": {},
          "execution_count": 10
        }
      ]
    },
    {
      "cell_type": "code",
      "source": [
        "l1u1"
      ],
      "metadata": {
        "colab": {
          "base_uri": "https://localhost:8080/"
        },
        "id": "rJ5gJMItKWLU",
        "outputId": "7f79bf65-43fb-4398-9aa0-b9eb8e3c6e1c"
      },
      "execution_count": 11,
      "outputs": [
        {
          "output_type": "execute_result",
          "data": {
            "text/plain": [
              "array([[  0.,   0.,   0.,   0.],\n",
              "       [  0.,  -5., -10., -15.],\n",
              "       [  0.,  -1.,  -2.,  -3.],\n",
              "       [  0.,  -9., -18., -27.]])"
            ]
          },
          "metadata": {},
          "execution_count": 11
        }
      ]
    },
    {
      "cell_type": "code",
      "source": [
        "l2u2"
      ],
      "metadata": {
        "colab": {
          "base_uri": "https://localhost:8080/"
        },
        "id": "7U8PyN8dKXIz",
        "outputId": "586c4fa7-7ea2-4393-b060-48d9e78e8636"
      },
      "execution_count": 12,
      "outputs": [
        {
          "output_type": "execute_result",
          "data": {
            "text/plain": [
              "array([[  0.,   0.,   0.,   0.],\n",
              "       [  0.,   0.,   0.,   0.],\n",
              "       [  0.,   0.,  -7., -14.],\n",
              "       [  0.,   0., -17., -34.]])"
            ]
          },
          "metadata": {},
          "execution_count": 12
        }
      ]
    },
    {
      "cell_type": "code",
      "source": [
        "l3u3"
      ],
      "metadata": {
        "colab": {
          "base_uri": "https://localhost:8080/"
        },
        "id": "l56S7zioKX6d",
        "outputId": "7d758e07-fb30-4fd5-9850-57a40de6404a"
      },
      "execution_count": 13,
      "outputs": [
        {
          "output_type": "execute_result",
          "data": {
            "text/plain": [
              "array([[ 0.,  0.,  0.,  0.],\n",
              "       [ 0.,  0.,  0.,  0.],\n",
              "       [ 0.,  0.,  0.,  0.],\n",
              "       [ 0.,  0.,  0., 12.]])"
            ]
          },
          "metadata": {},
          "execution_count": 13
        }
      ]
    },
    {
      "cell_type": "code",
      "source": [
        "new_A = np.zeros((4,4))\n",
        "for i in range(len(list_a)):\n",
        "  exec(f\"new_A = new_A + l{i}u{i}\")"
      ],
      "metadata": {
        "id": "8aGq6orhKYVr"
      },
      "execution_count": 14,
      "outputs": []
    },
    {
      "cell_type": "code",
      "source": [
        "new_A"
      ],
      "metadata": {
        "colab": {
          "base_uri": "https://localhost:8080/"
        },
        "id": "XoLN6PCpLQLn",
        "outputId": "7b50e4f6-9f34-415f-c005-21b916e9793e"
      },
      "execution_count": 15,
      "outputs": [
        {
          "output_type": "execute_result",
          "data": {
            "text/plain": [
              "array([[ 1.,  2.,  3.,  4.],\n",
              "       [ 6.,  7.,  8.,  9.],\n",
              "       [ 7., 13., 12., 11.],\n",
              "       [13., 17.,  4.,  3.]])"
            ]
          },
          "metadata": {},
          "execution_count": 15
        }
      ]
    },
    {
      "cell_type": "code",
      "source": [
        "A"
      ],
      "metadata": {
        "colab": {
          "base_uri": "https://localhost:8080/"
        },
        "id": "aACsjnPMMJKi",
        "outputId": "dcaed5ee-2403-42bc-ecc8-1e9ed4f9a548"
      },
      "execution_count": 16,
      "outputs": [
        {
          "output_type": "execute_result",
          "data": {
            "text/plain": [
              "array([[  1,   2,   3,   4],\n",
              "       [  0,  -5, -10, -15],\n",
              "       [  0,   0,  -7, -14],\n",
              "       [  0,   0,   0,  12]])"
            ]
          },
          "metadata": {},
          "execution_count": 16
        }
      ]
    },
    {
      "cell_type": "code",
      "source": [],
      "metadata": {
        "id": "mdhMXS-jMjZv"
      },
      "execution_count": 16,
      "outputs": []
    }
  ]
}