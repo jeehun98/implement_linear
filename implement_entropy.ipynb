{
  "nbformat": 4,
  "nbformat_minor": 0,
  "metadata": {
    "colab": {
      "provenance": []
    },
    "kernelspec": {
      "name": "python3",
      "display_name": "Python 3"
    },
    "language_info": {
      "name": "python"
    }
  },
  "cells": [
    {
      "cell_type": "code",
      "source": [
        "import numpy as np"
      ],
      "metadata": {
        "id": "rr9XLO138xlO"
      },
      "execution_count": null,
      "outputs": []
    },
    {
      "cell_type": "code",
      "source": [
        "import math"
      ],
      "metadata": {
        "id": "wFNWgiK78zmN"
      },
      "execution_count": null,
      "outputs": []
    },
    {
      "cell_type": "code",
      "execution_count": null,
      "metadata": {
        "colab": {
          "base_uri": "https://localhost:8080/"
        },
        "id": "ftYE-SQc8peD",
        "outputId": "7ebbf99b-b656-461b-c11d-6137457613d7"
      },
      "outputs": [
        {
          "output_type": "execute_result",
          "data": {
            "text/plain": [
              "3.0"
            ]
          },
          "metadata": {},
          "execution_count": 4
        }
      ],
      "source": [
        "h_x = -8 * 1/8 * math.log2(1/8)\n",
        "h_x"
      ]
    },
    {
      "cell_type": "code",
      "source": [
        "x = np.array(([1/2,1/4,1/8,1/16,1/64,1/64,1/64,1/64]))\n",
        "x"
      ],
      "metadata": {
        "colab": {
          "base_uri": "https://localhost:8080/"
        },
        "id": "7WjbPQ7X-pgR",
        "outputId": "c356fc52-c065-4a14-b4b1-a9a9a4c9be4e"
      },
      "execution_count": null,
      "outputs": [
        {
          "output_type": "execute_result",
          "data": {
            "text/plain": [
              "array([0.5     , 0.25    , 0.125   , 0.0625  , 0.015625, 0.015625,\n",
              "       0.015625, 0.015625])"
            ]
          },
          "metadata": {},
          "execution_count": 5
        }
      ]
    },
    {
      "cell_type": "code",
      "source": [
        "def entropy(x):\n",
        "  result = 0\n",
        "  for i in (x):\n",
        "    result += -i * math.log2(i)\n",
        "\n",
        "  return result"
      ],
      "metadata": {
        "id": "PKOqvDgy_3JY"
      },
      "execution_count": null,
      "outputs": []
    },
    {
      "cell_type": "code",
      "source": [
        "entropy(x)"
      ],
      "metadata": {
        "colab": {
          "base_uri": "https://localhost:8080/"
        },
        "id": "Beizb6tLAGfG",
        "outputId": "c30cec00-b611-4520-af28-75192e494c2e"
      },
      "execution_count": null,
      "outputs": [
        {
          "output_type": "execute_result",
          "data": {
            "text/plain": [
              "2.0"
            ]
          },
          "metadata": {},
          "execution_count": 11
        }
      ]
    },
    {
      "cell_type": "code",
      "source": [
        "def multiplicity(x):\n",
        "  result = 1\n",
        "  for i in range(1, x+1):\n",
        "    result = result * math.factorial(i)\n",
        "  \n",
        "  return math.factorial(x)/result"
      ],
      "metadata": {
        "id": "AD2MlTuDAI2d"
      },
      "execution_count": null,
      "outputs": []
    },
    {
      "cell_type": "code",
      "source": [
        "multiplicity(4)"
      ],
      "metadata": {
        "colab": {
          "base_uri": "https://localhost:8080/"
        },
        "id": "JZSA1K89D1E6",
        "outputId": "a2c48637-34ce-4a5c-d5dc-82cc6cbddf63"
      },
      "execution_count": null,
      "outputs": [
        {
          "output_type": "execute_result",
          "data": {
            "text/plain": [
              "0.08333333333333333"
            ]
          },
          "metadata": {},
          "execution_count": 26
        }
      ]
    },
    {
      "cell_type": "code",
      "source": [
        "def entropy_m(x):\n",
        "  return 1/x * math.log(multiplicity(x))"
      ],
      "metadata": {
        "id": "qbDMoaPeD2wo"
      },
      "execution_count": null,
      "outputs": []
    },
    {
      "cell_type": "code",
      "source": [
        "entropy_m(5)"
      ],
      "metadata": {
        "colab": {
          "base_uri": "https://localhost:8080/"
        },
        "id": "nRkRCYfwFxgq",
        "outputId": "cf03412c-fd94-43e5-9ad3-15b4523e7572"
      },
      "execution_count": null,
      "outputs": [
        {
          "output_type": "execute_result",
          "data": {
            "text/plain": [
              "-1.1325920960271894"
            ]
          },
          "metadata": {},
          "execution_count": 28
        }
      ]
    },
    {
      "cell_type": "code",
      "source": [
        "def entropy_m2(x):\n",
        "  result = 0\n",
        "  for i in range(1, x+1):\n",
        "    result += math.log(math.factorial(x))\n",
        "  return 1/x * math.log(math.factorial(x)) - 1/x * result"
      ],
      "metadata": {
        "id": "W920NG8DFz1i"
      },
      "execution_count": null,
      "outputs": []
    },
    {
      "cell_type": "code",
      "source": [
        "entropy_m2(5)"
      ],
      "metadata": {
        "colab": {
          "base_uri": "https://localhost:8080/"
        },
        "id": "lYaQx9F0GA0p",
        "outputId": "cb1638c8-c357-45a6-ea8a-5c8069eef720"
      },
      "execution_count": null,
      "outputs": [
        {
          "output_type": "execute_result",
          "data": {
            "text/plain": [
              "-3.8299933942256366"
            ]
          },
          "metadata": {},
          "execution_count": 32
        }
      ]
    },
    {
      "cell_type": "code",
      "source": [],
      "metadata": {
        "id": "jReV9r_0G0My"
      },
      "execution_count": null,
      "outputs": []
    }
  ]
}