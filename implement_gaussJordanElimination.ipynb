{
  "nbformat": 4,
  "nbformat_minor": 0,
  "metadata": {
    "colab": {
      "provenance": []
    },
    "kernelspec": {
      "name": "python3",
      "display_name": "Python 3"
    },
    "language_info": {
      "name": "python"
    }
  },
  "cells": [
    {
      "cell_type": "code",
      "execution_count": 55,
      "metadata": {
        "id": "5rWCHzpc2f-A"
      },
      "outputs": [],
      "source": [
        "import numpy as np"
      ]
    },
    {
      "cell_type": "code",
      "source": [
        "A = np.array(([2,-1,0],[-1,2,-1],[0,-1,2]))\n",
        "A"
      ],
      "metadata": {
        "colab": {
          "base_uri": "https://localhost:8080/"
        },
        "id": "NrG79eqT2oNH",
        "outputId": "0c219f82-5b47-445f-f23e-0c719f1bcd01"
      },
      "execution_count": 56,
      "outputs": [
        {
          "output_type": "execute_result",
          "data": {
            "text/plain": [
              "array([[ 2, -1,  0],\n",
              "       [-1,  2, -1],\n",
              "       [ 0, -1,  2]])"
            ]
          },
          "metadata": {},
          "execution_count": 56
        }
      ]
    },
    {
      "cell_type": "code",
      "source": [
        "I = np.identity(A.shape[0])\n",
        "I"
      ],
      "metadata": {
        "colab": {
          "base_uri": "https://localhost:8080/"
        },
        "id": "ftsypBEG7B4Q",
        "outputId": "a155dabc-6fef-4fc4-c63c-6f8798389d98"
      },
      "execution_count": 57,
      "outputs": [
        {
          "output_type": "execute_result",
          "data": {
            "text/plain": [
              "array([[1., 0., 0.],\n",
              "       [0., 1., 0.],\n",
              "       [0., 0., 1.]])"
            ]
          },
          "metadata": {},
          "execution_count": 57
        }
      ]
    },
    {
      "cell_type": "code",
      "source": [
        "AI = np.hstack([A,I])\n",
        "AI"
      ],
      "metadata": {
        "colab": {
          "base_uri": "https://localhost:8080/"
        },
        "id": "2j_7i0Sg7SSb",
        "outputId": "cdb66921-ee91-4ec9-89f5-542c458811b1"
      },
      "execution_count": 58,
      "outputs": [
        {
          "output_type": "execute_result",
          "data": {
            "text/plain": [
              "array([[ 2., -1.,  0.,  1.,  0.,  0.],\n",
              "       [-1.,  2., -1.,  0.,  1.,  0.],\n",
              "       [ 0., -1.,  2.,  0.,  0.,  1.]])"
            ]
          },
          "metadata": {},
          "execution_count": 58
        }
      ]
    },
    {
      "cell_type": "code",
      "source": [
        "a10 = AI[1,0] / AI[0,0]\n",
        "a10"
      ],
      "metadata": {
        "colab": {
          "base_uri": "https://localhost:8080/"
        },
        "id": "PEfIZtcL7c4s",
        "outputId": "d3d7c218-757b-4524-8465-ee3554cde3e6"
      },
      "execution_count": 59,
      "outputs": [
        {
          "output_type": "execute_result",
          "data": {
            "text/plain": [
              "-0.5"
            ]
          },
          "metadata": {},
          "execution_count": 59
        }
      ]
    },
    {
      "cell_type": "code",
      "source": [
        "AI[1] = AI[1] - AI[0] * a10\n",
        "AI[1]"
      ],
      "metadata": {
        "colab": {
          "base_uri": "https://localhost:8080/"
        },
        "id": "LrDKjfAoLFkz",
        "outputId": "ee42a480-15c2-43b6-dc4d-3607e784d484"
      },
      "execution_count": 60,
      "outputs": [
        {
          "output_type": "execute_result",
          "data": {
            "text/plain": [
              "array([ 0. ,  1.5, -1. ,  0.5,  1. ,  0. ])"
            ]
          },
          "metadata": {},
          "execution_count": 60
        }
      ]
    },
    {
      "cell_type": "code",
      "source": [
        "a21 = AI[2,1] / AI[1,1]\n",
        "a21"
      ],
      "metadata": {
        "colab": {
          "base_uri": "https://localhost:8080/"
        },
        "id": "cZJHQwuXLRmF",
        "outputId": "578a6217-422a-4b67-faf2-8c6caa3ba794"
      },
      "execution_count": 61,
      "outputs": [
        {
          "output_type": "execute_result",
          "data": {
            "text/plain": [
              "-0.6666666666666666"
            ]
          },
          "metadata": {},
          "execution_count": 61
        }
      ]
    },
    {
      "cell_type": "code",
      "source": [
        "AI[2] = AI[2] - AI[1] * a21\n",
        "AI[2]"
      ],
      "metadata": {
        "colab": {
          "base_uri": "https://localhost:8080/"
        },
        "id": "qcSfHvauMYDw",
        "outputId": "8687a5e1-331c-4b79-e15a-a1691ef75674"
      },
      "execution_count": 62,
      "outputs": [
        {
          "output_type": "execute_result",
          "data": {
            "text/plain": [
              "array([0.        , 0.        , 1.33333333, 0.33333333, 0.66666667,\n",
              "       1.        ])"
            ]
          },
          "metadata": {},
          "execution_count": 62
        }
      ]
    },
    {
      "cell_type": "code",
      "source": [
        "AI"
      ],
      "metadata": {
        "colab": {
          "base_uri": "https://localhost:8080/"
        },
        "id": "UbD4dPhlMgk-",
        "outputId": "2ea3c459-51c5-4218-8460-839ca62b6a81"
      },
      "execution_count": 63,
      "outputs": [
        {
          "output_type": "execute_result",
          "data": {
            "text/plain": [
              "array([[ 2.        , -1.        ,  0.        ,  1.        ,  0.        ,\n",
              "         0.        ],\n",
              "       [ 0.        ,  1.5       , -1.        ,  0.5       ,  1.        ,\n",
              "         0.        ],\n",
              "       [ 0.        ,  0.        ,  1.33333333,  0.33333333,  0.66666667,\n",
              "         1.        ]])"
            ]
          },
          "metadata": {},
          "execution_count": 63
        }
      ]
    },
    {
      "cell_type": "code",
      "source": [
        "a12 = AI[1,2] / AI[2,2]\n",
        "a12"
      ],
      "metadata": {
        "colab": {
          "base_uri": "https://localhost:8080/"
        },
        "id": "Dw2-_MUyMsII",
        "outputId": "8001a664-9b97-4529-8370-56f05a5ea272"
      },
      "execution_count": 64,
      "outputs": [
        {
          "output_type": "execute_result",
          "data": {
            "text/plain": [
              "-0.7499999999999999"
            ]
          },
          "metadata": {},
          "execution_count": 64
        }
      ]
    },
    {
      "cell_type": "code",
      "source": [
        "AI[1] = AI[1] - AI[2] * a12\n",
        "AI[1]"
      ],
      "metadata": {
        "colab": {
          "base_uri": "https://localhost:8080/"
        },
        "id": "ob3PJ2ZJNXYI",
        "outputId": "21f6bfaf-2b29-49ab-a263-ebd9946194d6"
      },
      "execution_count": 65,
      "outputs": [
        {
          "output_type": "execute_result",
          "data": {
            "text/plain": [
              "array([0.  , 1.5 , 0.  , 0.75, 1.5 , 0.75])"
            ]
          },
          "metadata": {},
          "execution_count": 65
        }
      ]
    },
    {
      "cell_type": "code",
      "source": [
        "a11 = AI[0,1] / AI[1,1]\n",
        "a11"
      ],
      "metadata": {
        "colab": {
          "base_uri": "https://localhost:8080/"
        },
        "id": "c7a2cDyDNd84",
        "outputId": "ccb3f693-1306-45e0-e290-d9f981406140"
      },
      "execution_count": 66,
      "outputs": [
        {
          "output_type": "execute_result",
          "data": {
            "text/plain": [
              "-0.6666666666666666"
            ]
          },
          "metadata": {},
          "execution_count": 66
        }
      ]
    },
    {
      "cell_type": "code",
      "source": [
        "AI[0] = AI[0] - AI[1] * a11\n",
        "AI[0]"
      ],
      "metadata": {
        "colab": {
          "base_uri": "https://localhost:8080/"
        },
        "id": "45bOgEpdNyc7",
        "outputId": "7d7182ce-cd4c-4ecd-9dbe-880374fc9ad6"
      },
      "execution_count": 67,
      "outputs": [
        {
          "output_type": "execute_result",
          "data": {
            "text/plain": [
              "array([2. , 0. , 0. , 1.5, 1. , 0.5])"
            ]
          },
          "metadata": {},
          "execution_count": 67
        }
      ]
    },
    {
      "cell_type": "code",
      "source": [
        "AI"
      ],
      "metadata": {
        "colab": {
          "base_uri": "https://localhost:8080/"
        },
        "id": "hSI_tUBTN29Z",
        "outputId": "c1265a08-56a2-4caf-9698-f5ed6f055786"
      },
      "execution_count": 68,
      "outputs": [
        {
          "output_type": "execute_result",
          "data": {
            "text/plain": [
              "array([[2.        , 0.        , 0.        , 1.5       , 1.        ,\n",
              "        0.5       ],\n",
              "       [0.        , 1.5       , 0.        , 0.75      , 1.5       ,\n",
              "        0.75      ],\n",
              "       [0.        , 0.        , 1.33333333, 0.33333333, 0.66666667,\n",
              "        1.        ]])"
            ]
          },
          "metadata": {},
          "execution_count": 68
        }
      ]
    },
    {
      "cell_type": "code",
      "source": [
        "AI[0] = AI[0] / AI[0,0]"
      ],
      "metadata": {
        "id": "CSjgfe4cN4AJ"
      },
      "execution_count": 69,
      "outputs": []
    },
    {
      "cell_type": "code",
      "source": [
        "AI[1] = AI[1] / AI[1,1]"
      ],
      "metadata": {
        "id": "p6sRJXNaOSPf"
      },
      "execution_count": 70,
      "outputs": []
    },
    {
      "cell_type": "code",
      "source": [
        "AI[2] = AI[2] / AI[2,2]"
      ],
      "metadata": {
        "id": "uvXcRhaPOUZE"
      },
      "execution_count": 71,
      "outputs": []
    },
    {
      "cell_type": "code",
      "source": [
        "AI"
      ],
      "metadata": {
        "colab": {
          "base_uri": "https://localhost:8080/"
        },
        "id": "v9Tj4PVgOWJM",
        "outputId": "7542cae8-a9f3-4856-84ec-443a74edd86d"
      },
      "execution_count": 72,
      "outputs": [
        {
          "output_type": "execute_result",
          "data": {
            "text/plain": [
              "array([[1.  , 0.  , 0.  , 0.75, 0.5 , 0.25],\n",
              "       [0.  , 1.  , 0.  , 0.5 , 1.  , 0.5 ],\n",
              "       [0.  , 0.  , 1.  , 0.25, 0.5 , 0.75]])"
            ]
          },
          "metadata": {},
          "execution_count": 72
        }
      ]
    }
  ]
}