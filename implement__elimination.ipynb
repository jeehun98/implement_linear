{
  "nbformat": 4,
  "nbformat_minor": 0,
  "metadata": {
    "colab": {
      "provenance": []
    },
    "kernelspec": {
      "name": "python3",
      "display_name": "Python 3"
    },
    "language_info": {
      "name": "python"
    }
  },
  "cells": [
    {
      "cell_type": "code",
      "execution_count": 46,
      "metadata": {
        "id": "ISPIgI_KsvW5"
      },
      "outputs": [],
      "source": [
        "import numpy as np"
      ]
    },
    {
      "cell_type": "code",
      "source": [
        "A = np.array(([1,2,3,4],[6,7,8,9],[7,13,12,11],[13,17,4,3]))\n",
        "A"
      ],
      "metadata": {
        "colab": {
          "base_uri": "https://localhost:8080/"
        },
        "id": "1idnD8M8twpN",
        "outputId": "a5a001b7-1c45-413c-ad03-8630d3dce6ea"
      },
      "execution_count": 47,
      "outputs": [
        {
          "output_type": "execute_result",
          "data": {
            "text/plain": [
              "array([[ 1,  2,  3,  4],\n",
              "       [ 6,  7,  8,  9],\n",
              "       [ 7, 13, 12, 11],\n",
              "       [13, 17,  4,  3]])"
            ]
          },
          "metadata": {},
          "execution_count": 47
        }
      ]
    },
    {
      "cell_type": "code",
      "source": [
        "for i in range(1, A.shape[0]):\n",
        "  A[i] = A[i] - (A[i][0] / A[0][0]) * A[0]"
      ],
      "metadata": {
        "id": "RcvIPMist3SM"
      },
      "execution_count": 48,
      "outputs": []
    },
    {
      "cell_type": "code",
      "source": [
        "A"
      ],
      "metadata": {
        "colab": {
          "base_uri": "https://localhost:8080/"
        },
        "id": "izD0IykGxgA9",
        "outputId": "67bfa6a9-c134-4358-961f-30de49a8c19b"
      },
      "execution_count": 49,
      "outputs": [
        {
          "output_type": "execute_result",
          "data": {
            "text/plain": [
              "array([[  1,   2,   3,   4],\n",
              "       [  0,  -5, -10, -15],\n",
              "       [  0,  -1,  -9, -17],\n",
              "       [  0,  -9, -35, -49]])"
            ]
          },
          "metadata": {},
          "execution_count": 49
        }
      ]
    },
    {
      "cell_type": "code",
      "source": [
        "A = np.array(([1,2,3,4],[6,7,8,9],[7,13,12,11],[13,17,4,3]))\n",
        "A"
      ],
      "metadata": {
        "colab": {
          "base_uri": "https://localhost:8080/"
        },
        "id": "5D2_Vq-0wuhQ",
        "outputId": "af837bb9-44d8-4ab2-d496-30927a21a868"
      },
      "execution_count": 50,
      "outputs": [
        {
          "output_type": "execute_result",
          "data": {
            "text/plain": [
              "array([[ 1,  2,  3,  4],\n",
              "       [ 6,  7,  8,  9],\n",
              "       [ 7, 13, 12, 11],\n",
              "       [13, 17,  4,  3]])"
            ]
          },
          "metadata": {},
          "execution_count": 50
        }
      ]
    },
    {
      "cell_type": "code",
      "source": [
        "for i in range(A.shape[0]-1):\n",
        "  a = A[i][i]\n",
        "  if(a == 0):\n",
        "    continue\n",
        "  for j in range(i+1, A.shape[0]):\n",
        "    A[j] = A[j] - (A[j][i] / a) * A[i]"
      ],
      "metadata": {
        "id": "Ujnv7WEYwhl4"
      },
      "execution_count": 51,
      "outputs": []
    },
    {
      "cell_type": "code",
      "source": [
        "A"
      ],
      "metadata": {
        "colab": {
          "base_uri": "https://localhost:8080/"
        },
        "id": "eBaagEwPt95I",
        "outputId": "dc3ea84a-658f-4fb4-b16f-f409add545de"
      },
      "execution_count": 52,
      "outputs": [
        {
          "output_type": "execute_result",
          "data": {
            "text/plain": [
              "array([[  1,   2,   3,   4],\n",
              "       [  0,  -5, -10, -15],\n",
              "       [  0,   0,  -7, -14],\n",
              "       [  0,   0,   0,  12]])"
            ]
          },
          "metadata": {},
          "execution_count": 52
        }
      ]
    },
    {
      "cell_type": "code",
      "source": [],
      "metadata": {
        "id": "afHnT7jGumsv"
      },
      "execution_count": 52,
      "outputs": []
    }
  ]
}