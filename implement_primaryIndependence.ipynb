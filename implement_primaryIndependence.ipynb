{
  "nbformat": 4,
  "nbformat_minor": 0,
  "metadata": {
    "colab": {
      "provenance": []
    },
    "kernelspec": {
      "name": "python3",
      "display_name": "Python 3"
    },
    "language_info": {
      "name": "python"
    }
  },
  "cells": [
    {
      "cell_type": "code",
      "execution_count": 1,
      "metadata": {
        "id": "xCqnDzMKLtUi"
      },
      "outputs": [],
      "source": [
        "import numpy as np"
      ]
    },
    {
      "cell_type": "code",
      "source": [
        "A = np.array(([1,3,8],[1,2,6],[0,1,2]))\n",
        "A"
      ],
      "metadata": {
        "colab": {
          "base_uri": "https://localhost:8080/"
        },
        "id": "RhReNgUIs3-3",
        "outputId": "1d3b0250-eb5f-4d7a-dfe3-62f3ac2b5a3e"
      },
      "execution_count": 3,
      "outputs": [
        {
          "output_type": "execute_result",
          "data": {
            "text/plain": [
              "array([[1, 3, 8],\n",
              "       [1, 2, 6],\n",
              "       [0, 1, 2]])"
            ]
          },
          "metadata": {},
          "execution_count": 3
        }
      ]
    },
    {
      "cell_type": "code",
      "source": [
        "for i in A[:,0]:\n",
        "  if i != 0:\n",
        "    C = A[:,0].reshape(A[:,0].shape[0],-1)\n",
        "    break"
      ],
      "metadata": {
        "id": "kd-iD15Nu541"
      },
      "execution_count": 22,
      "outputs": []
    },
    {
      "cell_type": "code",
      "source": [
        "C"
      ],
      "metadata": {
        "colab": {
          "base_uri": "https://localhost:8080/"
        },
        "id": "jXuOYjofvXQw",
        "outputId": "4477ab9e-ac3e-4350-be36-ff02fc26e6fa"
      },
      "execution_count": 23,
      "outputs": [
        {
          "output_type": "execute_result",
          "data": {
            "text/plain": [
              "array([[1],\n",
              "       [1],\n",
              "       [0]])"
            ]
          },
          "metadata": {},
          "execution_count": 23
        }
      ]
    },
    {
      "cell_type": "code",
      "source": [
        "a = A[:,0] / A[:,1]\n",
        "a_true = 1\n",
        "\n",
        "for i in a:\n",
        "  if a[0] == i:\n",
        "    continue\n",
        "  else:\n",
        "    a_true = 0\n",
        "    break\n",
        "\n",
        "if a_true == 1:\n",
        "  np.stack((C, A[:,1].reshape(A[:,1].shape[0],-1)))"
      ],
      "metadata": {
        "id": "TwF2cLKjvuR4"
      },
      "execution_count": 25,
      "outputs": []
    },
    {
      "cell_type": "code",
      "source": [
        "C"
      ],
      "metadata": {
        "colab": {
          "base_uri": "https://localhost:8080/"
        },
        "id": "Dos5_pThzRc4",
        "outputId": "5460a2d2-435e-4a5a-8417-26d2419fa231"
      },
      "execution_count": 26,
      "outputs": [
        {
          "output_type": "execute_result",
          "data": {
            "text/plain": [
              "array([[1],\n",
              "       [1],\n",
              "       [0]])"
            ]
          },
          "metadata": {},
          "execution_count": 26
        }
      ]
    },
    {
      "cell_type": "code",
      "source": [
        "for i in range(0, A.shape[1]):\n",
        "  "
      ],
      "metadata": {
        "id": "QMn4fshqs_1r"
      },
      "execution_count": null,
      "outputs": []
    }
  ]
}