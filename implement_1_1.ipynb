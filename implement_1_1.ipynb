{
  "nbformat": 4,
  "nbformat_minor": 0,
  "metadata": {
    "colab": {
      "provenance": []
    },
    "kernelspec": {
      "name": "python3",
      "display_name": "Python 3"
    },
    "language_info": {
      "name": "python"
    }
  },
  "cells": [
    {
      "cell_type": "code",
      "execution_count": 10,
      "metadata": {
        "id": "SpJ_vnKbgpwL"
      },
      "outputs": [],
      "source": [
        "import numpy as np"
      ]
    },
    {
      "cell_type": "code",
      "source": [
        "import sympy"
      ],
      "metadata": {
        "id": "KYq6LqYkisxw"
      },
      "execution_count": 11,
      "outputs": []
    },
    {
      "cell_type": "code",
      "source": [
        "A = np.array(([2,3],[2,4],[3,7]))"
      ],
      "metadata": {
        "id": "55Z4P0zBgvqA"
      },
      "execution_count": 8,
      "outputs": []
    },
    {
      "cell_type": "code",
      "source": [
        "A"
      ],
      "metadata": {
        "colab": {
          "base_uri": "https://localhost:8080/"
        },
        "id": "oTTFZugLiUBy",
        "outputId": "e5e8920f-e966-4504-f45f-5a0a6c64a11d"
      },
      "execution_count": 9,
      "outputs": [
        {
          "output_type": "execute_result",
          "data": {
            "text/plain": [
              "array([[2, 3],\n",
              "       [2, 4],\n",
              "       [3, 7]])"
            ]
          },
          "metadata": {},
          "execution_count": 9
        }
      ]
    },
    {
      "cell_type": "code",
      "source": [
        "x1 = sympy.Symbol('x1')\n",
        "x2 = sympy.Symbol('x2')"
      ],
      "metadata": {
        "id": "r8DQb54hiU9D"
      },
      "execution_count": 12,
      "outputs": []
    },
    {
      "cell_type": "code",
      "source": [
        "x = np.array(([x1],[x2]))"
      ],
      "metadata": {
        "id": "EtXAo40zi906"
      },
      "execution_count": 14,
      "outputs": []
    },
    {
      "cell_type": "code",
      "source": [
        "x"
      ],
      "metadata": {
        "colab": {
          "base_uri": "https://localhost:8080/"
        },
        "id": "iN1EWACYjBcz",
        "outputId": "2b9c59ef-8d15-4550-9ee0-27f8bca04e48"
      },
      "execution_count": 15,
      "outputs": [
        {
          "output_type": "execute_result",
          "data": {
            "text/plain": [
              "array([[x1],\n",
              "       [x2]], dtype=object)"
            ]
          },
          "metadata": {},
          "execution_count": 15
        }
      ]
    },
    {
      "cell_type": "code",
      "source": [
        "A.dot(x)"
      ],
      "metadata": {
        "colab": {
          "base_uri": "https://localhost:8080/"
        },
        "id": "l4mmZnhWi47Z",
        "outputId": "0aea7ddd-5a5a-4628-9bc7-40f2d6af5176"
      },
      "execution_count": 17,
      "outputs": [
        {
          "output_type": "execute_result",
          "data": {
            "text/plain": [
              "array([[2*x1 + 3*x2],\n",
              "       [2*x1 + 4*x2],\n",
              "       [3*x1 + 7*x2]], dtype=object)"
            ]
          },
          "metadata": {},
          "execution_count": 17
        }
      ]
    },
    {
      "cell_type": "code",
      "source": [
        "A[:,0] * x[0]"
      ],
      "metadata": {
        "colab": {
          "base_uri": "https://localhost:8080/"
        },
        "id": "7Q05Aurei60g",
        "outputId": "585f0f9f-abd9-41b1-8aeb-c7e6e1fc7ef5"
      },
      "execution_count": 27,
      "outputs": [
        {
          "output_type": "execute_result",
          "data": {
            "text/plain": [
              "array([2*x1, 2*x1, 3*x1], dtype=object)"
            ]
          },
          "metadata": {},
          "execution_count": 27
        }
      ]
    },
    {
      "cell_type": "code",
      "source": [
        "A[:,1] * x[1]"
      ],
      "metadata": {
        "colab": {
          "base_uri": "https://localhost:8080/"
        },
        "id": "BbycNk2JjHAO",
        "outputId": "bfba9e62-ffd1-4d18-df90-83446b45d458"
      },
      "execution_count": 28,
      "outputs": [
        {
          "output_type": "execute_result",
          "data": {
            "text/plain": [
              "array([3*x2, 4*x2, 7*x2], dtype=object)"
            ]
          },
          "metadata": {},
          "execution_count": 28
        }
      ]
    }
  ]
}